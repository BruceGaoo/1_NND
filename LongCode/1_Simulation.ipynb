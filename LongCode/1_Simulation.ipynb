{
 "cells": [
  {
   "cell_type": "code",
   "execution_count": 1,
   "metadata": {
    "scrolled": true
   },
   "outputs": [
    {
     "name": "stderr",
     "output_type": "stream",
     "text": [
      "Using TensorFlow backend.\n"
     ]
    }
   ],
   "source": [
    "import numpy as np\n",
    "import pandas as pd\n",
    "import matplotlib.pyplot as plt\n",
    "import keras"
   ]
  },
  {
   "cell_type": "code",
   "execution_count": 2,
   "metadata": {},
   "outputs": [],
   "source": [
    "def GA(N, K):\n",
    "    if N == 4:\n",
    "        tmp = [0, 1, 2, 3]\n",
    "    elif N == 8:\n",
    "        tmp = [0, 1, 2, 4, 3, 5, 6, 7]\n",
    "    elif N == 16:\n",
    "        tmp = [0, 1, 2, 4, 8, 3, 5, 6, 9, 10, 12, 7, 11, 13, 14, 15]\n",
    "    return sorted(tmp[N-K:])\n",
    "\n",
    "def NN_param(N, K):\n",
    "    model = keras.models.load_model('./model/model_' + str(N) + '_' + str(K) + '.h5')\n",
    "    tmp = model.get_weights()\n",
    "    weights = []\n",
    "    for i in range(int(len(tmp)/2)):\n",
    "        weights.append(np.append([tmp[2*i+1]], tmp[2*i], axis=0))\n",
    "    return weights\n",
    "\n",
    "def encoder(u):\n",
    "    N = len(u)\n",
    "    if N == 1:\n",
    "        x = u\n",
    "    else:\n",
    "        x1 = encoder(u[:int(N/2)])\n",
    "        x2 = encoder(u[int(N/2):])\n",
    "        x = np.append((x1+x2)%2, x2)\n",
    "    return x\n",
    "\n",
    "def decoder(y):\n",
    "    tmp = y\n",
    "    for i in NN[:-1]:\n",
    "        tmp = np.dot(np.append(1, tmp), i)\n",
    "        tmp[tmp < 0] = 0\n",
    "    tmp = np.dot(np.append(1, tmp), NN[-1])\n",
    "    tmp[tmp>0] = 1\n",
    "    tmp[tmp<0] = 0\n",
    "    return tmp"
   ]
  },
  {
   "cell_type": "code",
   "execution_count": 3,
   "metadata": {
    "scrolled": true
   },
   "outputs": [],
   "source": [
    "n = 4\n",
    "N = 2**n\n",
    "K = 4\n",
    "R = K/N\n",
    "free_set = GA(N, K)\n",
    "NN = NN_param(N, K)"
   ]
  },
  {
   "cell_type": "code",
   "execution_count": 4,
   "metadata": {},
   "outputs": [],
   "source": [
    "ebn0_min = 0\n",
    "ebn0_max = 6\n",
    "points = 13\n",
    "ebn0 = np.linspace(ebn0_min, ebn0_max, points)\n",
    "\n",
    "bsum = np.zeros(points, dtype=np.float64)\n",
    "be = np.zeros(points, dtype=np.float64)\n",
    "ber = np.zeros(points, dtype=np.float64)\n",
    "fsum = np.zeros(points, dtype=np.float64)\n",
    "fe = np.zeros(points, dtype=np.float64)\n",
    "fer = np.zeros(points, dtype=np.float64)\n",
    "\n",
    "times_min = 50000\n",
    "times_max = 500000\n",
    "error_max = 1000"
   ]
  },
  {
   "cell_type": "code",
   "execution_count": 5,
   "metadata": {
    "scrolled": true
   },
   "outputs": [
    {
     "name": "stdout",
     "output_type": "stream",
     "text": [
      "0 50000 8565.0\n",
      "1 50000 7003.0\n",
      "2 50000 5373.0\n",
      "3 50000 4124.0\n",
      "4 50000 2908.0\n",
      "5 50000 2029.0\n",
      "6 50000 1336.0\n",
      "7 57564 1000.0\n",
      "8 102705 1000.0\n",
      "9 191390 1000.0\n",
      "10 377897 1000.0\n",
      "11 500000 582.0\n",
      "12 500000 270.0\n"
     ]
    }
   ],
   "source": [
    "for i in range(points):\n",
    "    SNR = ebn0[i] + 10*np.log10(2*R)\n",
    "    sigma = (1/10**(SNR/10))**(1/2)\n",
    "    ii = 0\n",
    "    \n",
    "    while (fe[i] < error_max and ii < times_max) or (ii < times_min) :\n",
    "#         u0 = np.random.randint(low=0, high=2, size=K, dtype=np.int8)\n",
    "        u0 = np.ones(K, dtype=np.int8)\n",
    "        u = np.zeros(N, dtype=np.int8)\n",
    "        u[free_set] = u0\n",
    "        x = encoder(u)\n",
    "        \n",
    "        y = 1 - 2*x + np.random.randn(N)*sigma\n",
    "        \n",
    "        u_pred = decoder(y)\n",
    "        \n",
    "        diff = np.sum((u_pred + u0)%2)\n",
    "        fe[i] += bool(diff)\n",
    "        be[i] += diff\n",
    "        ii += 1\n",
    "\n",
    "    fsum[i] = ii\n",
    "    bsum[i] = ii*K\n",
    "    fer[i] = fe[i]/fsum[i]\n",
    "    ber[i] = be[i]/bsum[i]\n",
    "    print(i, ii, fe[i])"
   ]
  },
  {
   "cell_type": "code",
   "execution_count": 6,
   "metadata": {
    "scrolled": true
   },
   "outputs": [
    {
     "data": {
      "image/png": "[encoded data removed]",
      "text/plain": [
       "<Figure size 720x540 with 1 Axes>"
      ]
     },
     "metadata": {},
     "output_type": "display_data"
    }
   ],
   "source": [
    "plt.figure(figsize=(10,7.5))\n",
    "legend = ['NN FER', 'NN BER']\n",
    "\n",
    "plt.plot(ebn0, ber, 'c') \n",
    "plt.plot(ebn0, fer, 'c--') \n",
    "\n",
    "plt.legend(legend, loc=3)\n",
    "plt.yscale('log')\n",
    "plt.xlabel('$E_b/N_0$')\n",
    "plt.ylabel('FER / BER')    \n",
    "plt.grid(True)\n",
    "plt.show()"
   ]
  },
  {
   "cell_type": "code",
   "execution_count": 7,
   "metadata": {},
   "outputs": [],
   "source": [
    "d = pd.DataFrame([ebn0, ber, fer]).T\n",
    "d.columns = ['ebn0', 'fer', 'ber']"
   ]
  },
  {
   "cell_type": "code",
   "execution_count": 8,
   "metadata": {},
   "outputs": [],
   "source": [
    "d.to_csv('./data/NN_' + str(N) + '_' + str(K) + '.csv', index=False)"
   ]
  }
 ],
 "metadata": {
  "kernelspec": {
   "display_name": "Python 3",
   "language": "python",
   "name": "python3"
  },
  "language_info": {
   "codemirror_mode": {
    "name": "ipython",
    "version": 3
   },
   "file_extension": ".py",
   "mimetype": "text/x-python",
   "name": "python",
   "nbconvert_exporter": "python",
   "pygments_lexer": "ipython3",
   "version": "3.6.5"
  }
 },
 "nbformat": 4,
 "nbformat_minor": 2
}
